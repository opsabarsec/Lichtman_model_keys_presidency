{
  "metadata": {
    "kernelspec": {
      "language": "python",
      "display_name": "Python 3",
      "name": "python3"
    },
    "language_info": {
      "name": "python",
      "version": "3.10.14",
      "mimetype": "text/x-python",
      "codemirror_mode": {
        "name": "ipython",
        "version": 3
      },
      "pygments_lexer": "ipython3",
      "nbconvert_exporter": "python",
      "file_extension": ".py"
    },
    "kaggle": {
      "accelerator": "none",
      "dataSources": [],
      "dockerImageVersionId": 30786,
      "isInternetEnabled": true,
      "language": "python",
      "sourceType": "notebook",
      "isGpuEnabled": false
    },
    "colab": {
      "name": "US elections 2024",
      "provenance": [],
      "include_colab_link": true
    }
  },
  "nbformat_minor": 0,
  "nbformat": 4,
  "cells": [
    {
      "cell_type": "markdown",
      "metadata": {
        "id": "view-in-github",
        "colab_type": "text"
      },
      "source": [
        "<a href=\"https://colab.research.google.com/github/opsabarsec/Lichtman_model_keys_presidency/blob/main/US_elections_2024.ipynb\" target=\"_parent\"><img src=\"https://colab.research.google.com/assets/colab-badge.svg\" alt=\"Open In Colab\"/></a>"
      ]
    },
    {
      "cell_type": "markdown",
      "source": [
        "# Prediction of 2024 US elections according to Lichtman model\n",
        "\n",
        "## 1. Get the data from Wikipedia"
      ],
      "metadata": {
        "id": "6ruij5FC_XwA"
      }
    },
    {
      "cell_type": "code",
      "source": [
        "import time"
      ],
      "metadata": {
        "id": "vzoEVdv0FKRJ"
      },
      "execution_count": 69,
      "outputs": []
    },
    {
      "cell_type": "code",
      "source": [
        "# get the values from Wikipedia\n",
        "# https://en.wikipedia.org/wiki/The_Keys_to_the_White_House#\n",
        "\n",
        "\n",
        "dict_lictman_keys_2024 = {'Party_mandate': False,\n",
        "  # Party_mandate: incumbent party has achieved a net gain of seats in the U.S. House\n",
        "  # of Representatives in the previous presidential and midterm elections combined\n",
        " 'No serious primary contest for Democrats': True,\n",
        " 'Incumbent seeking re-election': False,\n",
        " 'No significant third-party campaign': True,\n",
        " 'Strong short-term economy (no recession)': True,\n",
        " 'Strong long-term economy': True,\n",
        " 'Major policy changes under current administration': True, #\n",
        "  # for 2024, the Build Back Better Plan, the reversal\n",
        "  # of Trump administration executive orders,\n",
        "  # the United States rejoining the Paris Climate Accord and the World Health Organization,\n",
        "  # and other substantive social legislation.\n",
        " 'No social unrest': True,\n",
        " 'No scandal for Biden or Harris': True,\n",
        " 'No foreign/military failure': False,\n",
        " 'Major foreign/military success': False,\n",
        " 'Charismatic incumbent': False,\n",
        " 'Uncharismatic challenger': True}"
      ],
      "metadata": {
        "id": "lUtIfPNruyGb"
      },
      "execution_count": 61,
      "outputs": []
    },
    {
      "cell_type": "markdown",
      "source": [
        "## 2. Build the model"
      ],
      "metadata": {
        "id": "HsQQOew7AgVU"
      }
    },
    {
      "cell_type": "code",
      "source": [
        "def lichtman_outcome(keys):\n",
        "  '''This function predicts US election winner based on Lichtman's model'''\n",
        "\n",
        "  false_count = sum(value == False for value in keys.values())\n",
        "  true_count = sum(value == True for value in keys.values())\n",
        "  count_keys = true_count - false_count\n",
        "\n",
        "  # assert whether there is a recession or not\n",
        "  # in case of recession challenger wins\n",
        "\n",
        "  if keys['Strong short-term economy (no recession)']==False:\n",
        "    winner = 'Challenger'\n",
        "    predicted_percentage = 'unknown'\n",
        "\n",
        "  else:\n",
        "     # get the outcome from counting keys\n",
        "     # predict winning% from the model in this paper\n",
        "     #\n",
        "    if count_keys < 0:\n",
        "      winner = 'Challenger'\n",
        "      predicted_percentage = 100 - round(37.3+1.8*(true_count), 2)\n",
        "\n",
        "    elif false_count >= 6:\n",
        "      winner = 'Challenger'\n",
        "      predicted_percentage = 100 - round(37.3+1.8*(true_count), 2)\n",
        "    else: # count outcome positive\n",
        "      winner = 'Incumbent'\n",
        "      predicted_percentage = round(37.3+1.8*(true_count), 2)\n",
        "\n",
        "  return winner, predicted_percentage"
      ],
      "metadata": {
        "id": "-QZEJXW5_jCM"
      },
      "execution_count": 74,
      "outputs": []
    },
    {
      "cell_type": "code",
      "source": [
        "def prediction_2024(winner:str, predicted_percentage):\n",
        "  '''This function adapts US election prediction to 2024'''\n",
        "  dict_candidates = {'Challenger':'Trump', 'Incumbent':'Harris'}\n",
        "  timestamp = time.strftime(\"%Y-%m-%d %H:%M:%S\", time.localtime())\n",
        "  message = {'prediction_timestamp':timestamp, 'winner':dict_candidates[winner], 'predicted_percentage':predicted_percentage}\n",
        "  return message\n",
        ""
      ],
      "metadata": {
        "id": "0LpC1jAlEjM3"
      },
      "execution_count": 77,
      "outputs": []
    },
    {
      "cell_type": "code",
      "source": [
        "winner, predicted_percentage = lichtman_outcome(dict_lictman_keys_2024)\n",
        "prediction = prediction_2024(winner, predicted_percentage)"
      ],
      "metadata": {
        "id": "xEbFUW6s8uHy"
      },
      "execution_count": 76,
      "outputs": []
    },
    {
      "cell_type": "code",
      "source": [
        "\n",
        "print(f\"Winner US elections 2024 predicted at this time and date: {prediction['prediction_timestamp']}\")\n",
        "print(\"\")\n",
        "print(prediction['winner'])\n",
        "print(f\"with {prediction['predicted_percentage']}% of votes\")"
      ],
      "metadata": {
        "id": "wzxnw0zn0TWF",
        "outputId": "df8e7345-ed5e-4cf2-c5c9-8110dce0e302",
        "colab": {
          "base_uri": "https://localhost:8080/"
        }
      },
      "execution_count": 73,
      "outputs": [
        {
          "output_type": "stream",
          "name": "stdout",
          "text": [
            "Winner US elections 2024 predicted at this time and date: 2024-10-31 19:39:14\n",
            "\n",
            "Harris\n",
            "with 51.7% of votes\n"
          ]
        }
      ]
    }
  ]
}